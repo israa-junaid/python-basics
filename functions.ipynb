{
 "cells": [
  {
   "cell_type": "code",
   "execution_count": 3,
   "metadata": {},
   "outputs": [
    {
     "name": "stdout",
     "output_type": "stream",
     "text": [
      "1\n",
      "2\n",
      "3\n",
      "4\n",
      "5\n",
      "6\n",
      "7\n",
      "8\n",
      "9\n",
      "10\n"
     ]
    }
   ],
   "source": [
    "def sum(num):\n",
    " for x in range(0,10):\n",
    "    x=x+num\n",
    "    print(x)\n",
    "\n",
    "sum(1)"
   ]
  },
  {
   "cell_type": "code",
   "execution_count": 7,
   "metadata": {},
   "outputs": [
    {
     "name": "stdout",
     "output_type": "stream",
     "text": [
      "your order is cheeseburgercolarussianicecream\n"
     ]
    }
   ],
   "source": [
    "def myorder(burger,drink,salad,desert):\n",
    "  print(\"your order is \"+burger +drink+ salad+ desert )\n",
    "\n",
    "myorder(burger=\"cheeseburger\",drink=\"cola\",salad=\"russian\",desert=\"icecream\")"
   ]
  },
  {
   "cell_type": "code",
   "execution_count": 11,
   "metadata": {},
   "outputs": [
    {
     "name": "stdout",
     "output_type": "stream",
     "text": [
      "your order is cheeseburger\n"
     ]
    }
   ],
   "source": [
    "def myorder(**order):\n",
    "  print(\"your order is \"+order[\"burger\"] )\n",
    "\n",
    "myorder(burger=\"cheeseburger\",drink=\"cola\",salad=\"russian\",desert=\"icecream\")"
   ]
  },
  {
   "cell_type": "code",
   "execution_count": null,
   "metadata": {},
   "outputs": [],
   "source": []
  }
 ],
 "metadata": {
  "kernelspec": {
   "display_name": "Python 3",
   "language": "python",
   "name": "python3"
  },
  "language_info": {
   "codemirror_mode": {
    "name": "ipython",
    "version": 3
   },
   "file_extension": ".py",
   "mimetype": "text/x-python",
   "name": "python",
   "nbconvert_exporter": "python",
   "pygments_lexer": "ipython3",
   "version": "3.7.6"
  }
 },
 "nbformat": 4,
 "nbformat_minor": 4
}
