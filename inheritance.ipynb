{
 "cells": [
  {
   "cell_type": "code",
   "execution_count": null,
   "metadata": {},
   "outputs": [],
   "source": [
    "class employee:\n",
    "     def __init__(self,id_no,name):\n",
    "        self.id_no=id_no\n",
    "        self.name=name\n",
    "        \n",
    "     def display(self):\n",
    "        print(self.id_no, self.name)\n",
    "        \n",
    "    \n",
    "        \n",
    "class teacher(employee):\n",
    "    def __init__(self,id_no,name,salary):\n",
    "        \n",
    "        self.salary=salary\n",
    "    super(teacher,self). __init__(self,id_no,name)\n",
    "    \n",
    "    def display2(self):\n",
    "        print(self.id_no ,self.name,self.salary)\n",
    "        \n",
    "    p1=teacher(13,israa,2000)     \n",
    "    p1.display2"
   ]
  }
 ],
 "metadata": {
  "kernelspec": {
   "display_name": "Python 3",
   "language": "python",
   "name": "python3"
  },
  "language_info": {
   "codemirror_mode": {
    "name": "ipython",
    "version": 3
   },
   "file_extension": ".py",
   "mimetype": "text/x-python",
   "name": "python",
   "nbconvert_exporter": "python",
   "pygments_lexer": "ipython3",
   "version": "3.7.6"
  }
 },
 "nbformat": 4,
 "nbformat_minor": 4
}
